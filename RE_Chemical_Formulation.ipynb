{
 "cells": [
  {
   "cell_type": "code",
   "execution_count": 43,
   "metadata": {
    "collapsed": true
   },
   "outputs": [],
   "source": [
    "import collections\n",
    "import re"
   ]
  },
  {
   "cell_type": "code",
   "execution_count": 47,
   "metadata": {},
   "outputs": [],
   "source": [
    "def parse_formulation(formula):\n",
    "    #Chemical Formulation are parsed by element identity ONLY, for example, the (CO3) was considered as 3 atoms of O plus 1 atom of C\n",
    "    #Only the number of atom is counted \n",
    "    collect = [collections.Counter()]\n",
    "    \n",
    "    re_formulation = re.findall(r'([A-Z][a-z]*)(\\d*)|(\\()|(\\))(\\d*)', formula)\n",
    "    for element, num1, l_bracket, r_bracket, num2 in re_formulation:\n",
    "        if element:\n",
    "            if num1:\n",
    "                collect[-1][element] += int(num1)\n",
    "            else:\n",
    "                collect[-1][element] += 1\n",
    "          \n",
    "        if l_bracket:\n",
    "          collect.append(collections.Counter())\n",
    "        if r_bracket:\n",
    "            top = collect.pop()\n",
    "            for j in top:\n",
    "                if num2:\n",
    "                   collect[-1][j] += top[j] * int(num2)\n",
    "                else:\n",
    "                    collect[-1][j] += 1\n",
    "              \n",
    "    \n",
    "    return sorted(collect)"
   ]
  },
  {
   "cell_type": "code",
   "execution_count": 48,
   "metadata": {},
   "outputs": [
    {
     "name": "stdout",
     "output_type": "stream",
     "text": [
      "[Counter({'O': 3, 'Na': 2, 'C': 1})]\n",
      "[Counter({'C': 10024, 'Hg': 4995, 'Ar': 3315, 'U': 265, 'S': 124, 'H': 110, 'O': 15, 'Ed': 10, 'La': 5})]\n",
      "[Counter({'H': 4222433332, 'N': 123, 'C': 111, 'S': 8})]\n",
      "[Counter({'O': 300, 'S': 84, 'N': 12, 'P': 4})]\n"
     ]
    }
   ],
   "source": [
    "test_cases = [ 'Na2CO3','C9999(H21Ar663[C5H1Hg999]{Ed2[S5[La1]9]}42O3)5{U265{S99}}','C111H4222433332N123S8',\"P4(OSN(SO4)6)12\"]\n",
    "for i in test_cases:\n",
    "    print(parse_formulation(i))"
   ]
  },
  {
   "cell_type": "code",
   "execution_count": null,
   "metadata": {
    "collapsed": true
   },
   "outputs": [],
   "source": []
  }
 ],
 "metadata": {
  "kernelspec": {
   "display_name": "Python 3",
   "language": "python",
   "name": "python3"
  },
  "language_info": {
   "codemirror_mode": {
    "name": "ipython",
    "version": 3
   },
   "file_extension": ".py",
   "mimetype": "text/x-python",
   "name": "python",
   "nbconvert_exporter": "python",
   "pygments_lexer": "ipython3",
   "version": "3.6.3"
  }
 },
 "nbformat": 4,
 "nbformat_minor": 2
}
